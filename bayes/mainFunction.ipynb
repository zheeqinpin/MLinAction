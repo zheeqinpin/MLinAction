{
 "cells": [
  {
   "cell_type": "code",
   "execution_count": 78,
   "metadata": {},
   "outputs": [],
   "source": [
    "import ipynbImporter\n",
    "from numpy import *\n",
    "from imp import reload\n",
    "import bayes"
   ]
  },
  {
   "cell_type": "code",
   "execution_count": 80,
   "metadata": {},
   "outputs": [],
   "source": [
    "# reload(bayes)\n",
    "postingList, classVec = bayes.loadDataSet()\n",
    "# postingList[0]\n",
    "vocabList = bayes.createVocabList(postingList)\n",
    "# vocabList\n",
    "returnVec = bayes.setofWords2Vec(vocabList, postingList[0])\n",
    "# returnVec"
   ]
  },
  {
   "cell_type": "code",
   "execution_count": 73,
   "metadata": {},
   "outputs": [
    {
     "name": "stdout",
     "output_type": "stream",
     "text": [
      "the word: wahaaaaaaa is not in vocabList\n"
     ]
    }
   ],
   "source": [
    "inputVec = ['my', 'dog', 'has', 'flea', 'problems', 'help', 'wahaaaaaaa']\n",
    "returnVec = [0] * len(vocabList)\n",
    "# returnVec\n",
    "for word in inputVec:\n",
    "    if word in vocabList:\n",
    "        tempIndex = vocabList.index(word) #获取出现词汇的下标\n",
    "        returnVec[tempIndex] = 1\n",
    "    else:\n",
    "        print('the word: %s is not in vocabList' % word)\n",
    "# returnVec"
   ]
  },
  {
   "cell_type": "code",
   "execution_count": null,
   "metadata": {},
   "outputs": [],
   "source": []
  }
 ],
 "metadata": {
  "kernelspec": {
   "display_name": "Python 3",
   "language": "python",
   "name": "python3"
  },
  "language_info": {
   "codemirror_mode": {
    "name": "ipython",
    "version": 3
   },
   "file_extension": ".py",
   "mimetype": "text/x-python",
   "name": "python",
   "nbconvert_exporter": "python",
   "pygments_lexer": "ipython3",
   "version": "3.6.5"
  }
 },
 "nbformat": 4,
 "nbformat_minor": 2
}
