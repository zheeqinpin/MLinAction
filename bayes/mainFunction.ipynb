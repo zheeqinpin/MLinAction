{
 "cells": [
  {
   "cell_type": "code",
   "execution_count": 33,
   "metadata": {},
   "outputs": [],
   "source": [
    "import ipynbImporter\n",
    "from numpy import *\n",
    "from imp import reload\n",
    "import bayes"
   ]
  },
  {
   "cell_type": "code",
   "execution_count": 36,
   "metadata": {},
   "outputs": [
    {
     "data": {
      "text/plain": [
       "array([0.05263158, 0.05263158, 0.        , 0.        , 0.        ,\n",
       "       0.05263158, 0.        , 0.        , 0.        , 0.        ,\n",
       "       0.05263158, 0.05263158, 0.        , 0.        , 0.        ,\n",
       "       0.10526316, 0.10526316, 0.05263158, 0.        , 0.15789474,\n",
       "       0.05263158, 0.        , 0.05263158, 0.        , 0.05263158,\n",
       "       0.        , 0.05263158, 0.05263158, 0.        , 0.        ,\n",
       "       0.        , 0.05263158])"
      ]
     },
     "execution_count": 36,
     "metadata": {},
     "output_type": "execute_result"
    }
   ],
   "source": [
    "# reload(bayes)\n",
    "postingList, classVec = bayes.loadDataSet()\n",
    "# postingList[0]\n",
    "vocabList = bayes.createVocabList(postingList)\n",
    "# vocabList\n",
    "trainMatrix = []\n",
    "for docs in postingList:\n",
    "    trainMatrix.append(bayes.setofWords2Vec(vocabList, docs))\n",
    "# len(trainMatrix)\n",
    "p0Vec, p1Vec, pAbusive = bayes.trainNB0(trainMatrix, classVec)\n",
    "p1Vec"
   ]
  },
  {
   "cell_type": "code",
   "execution_count": 13,
   "metadata": {},
   "outputs": [
    {
     "data": {
      "text/plain": [
       "array([0.05263158, 0.05263158, 0.        , 0.        , 0.        ,\n",
       "       0.05263158, 0.        , 0.        , 0.        , 0.        ,\n",
       "       0.05263158, 0.05263158, 0.        , 0.        , 0.        ,\n",
       "       0.10526316, 0.10526316, 0.05263158, 0.        , 0.15789474,\n",
       "       0.05263158, 0.        , 0.05263158, 0.        , 0.05263158,\n",
       "       0.        , 0.05263158, 0.05263158, 0.        , 0.        ,\n",
       "       0.        , 0.05263158])"
      ]
     },
     "execution_count": 13,
     "metadata": {},
     "output_type": "execute_result"
    }
   ],
   "source": [
    "trainCategory = classVec\n",
    "numofTrainDocs = len(trainMatrix)\n",
    "numofWords = len(trainMatrix[0])\n",
    "pAbusive = sum(trainCategory)/float(numofTrainDocs)\n",
    "# pAbusive\n",
    "p0Num = zeros(numofWords)\n",
    "p1Num = zeros(numofWords)\n",
    "p0Denom = 0\n",
    "p1Denom = 0\n",
    "for i in range(numofTrainDocs):\n",
    "    if trainCategory[i] == 1:\n",
    "        p1Num += trainMatrix[i]\n",
    "        p1Denom += sum(trainMatrix[i])\n",
    "    else:\n",
    "        p0Num += trainMatrix[i]\n",
    "        p0Denom += sum(trainMatrix[i])\n",
    "p1Vect = p1Num/p1Denom\n",
    "p0Vect = p0Num/p0Denom\n",
    "# return p0Vect, p1Vect, pAbusive\n",
    "p1Vect"
   ]
  },
  {
   "cell_type": "code",
   "execution_count": 11,
   "metadata": {},
   "outputs": [
    {
     "data": {
      "text/plain": [
       "7"
      ]
     },
     "execution_count": 11,
     "metadata": {},
     "output_type": "execute_result"
    }
   ],
   "source": [
    "p0Num = zeros(32)\n",
    "p0Num + trainMatrix[0]\n",
    "sum(trainMatrix[0])"
   ]
  },
  {
   "cell_type": "code",
   "execution_count": 73,
   "metadata": {},
   "outputs": [
    {
     "name": "stdout",
     "output_type": "stream",
     "text": [
      "the word: wahaaaaaaa is not in vocabList\n"
     ]
    }
   ],
   "source": [
    "inputVec = ['my', 'dog', 'has', 'flea', 'problems', 'help', 'wahaaaaaaa']\n",
    "returnVec = [0] * len(vocabList)\n",
    "# returnVec\n",
    "for word in inputVec:\n",
    "    if word in vocabList:\n",
    "        tempIndex = vocabList.index(word) #获取出现词汇的下标\n",
    "        returnVec[tempIndex] = 1\n",
    "    else:\n",
    "        print('the word: %s is not in vocabList' % word)\n",
    "# returnVec"
   ]
  },
  {
   "cell_type": "code",
   "execution_count": null,
   "metadata": {},
   "outputs": [],
   "source": []
  }
 ],
 "metadata": {
  "kernelspec": {
   "display_name": "Python 3",
   "language": "python",
   "name": "python3"
  },
  "language_info": {
   "codemirror_mode": {
    "name": "ipython",
    "version": 3
   },
   "file_extension": ".py",
   "mimetype": "text/x-python",
   "name": "python",
   "nbconvert_exporter": "python",
   "pygments_lexer": "ipython3",
   "version": "3.6.5"
  }
 },
 "nbformat": 4,
 "nbformat_minor": 2
}
