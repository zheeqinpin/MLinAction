{
 "cells": [
  {
   "cell_type": "code",
   "execution_count": 3,
   "metadata": {},
   "outputs": [],
   "source": [
    "'''\n",
    "edited by:Qingping Zheng\n",
    "2018-10-09\n",
    "'''\n",
    "from numpy import *\n",
    "\n",
    "def loadDataSet():\n",
    "    postingList=[['my', 'dog', 'has', 'flea', 'problems', 'help', 'please'],\n",
    "                 ['maybe', 'not', 'take', 'him', 'to', 'dog', 'park', 'stupid'],\n",
    "                 ['my', 'dalmation', 'is', 'so', 'cute', 'I', 'love', 'him'],\n",
    "                 ['stop', 'posting', 'stupid', 'worthless', 'garbage'],\n",
    "                 ['mr', 'licks', 'ate', 'my', 'steak', 'how', 'to', 'stop', 'him'],\n",
    "                 ['quit', 'buying', 'worthless', 'dog', 'food', 'stupid']]\n",
    "    classVec = [0,1,0,1,0,1]    #1 代表侮辱性文字, 0 代表不是\n",
    "    return postingList,classVec\n",
    "\n",
    "def createVocabList(dataSet): #创建一个包含在所有文档中出现的不重复词的列表\n",
    "    vocabSet = set([])\n",
    "    for document in dataSet:\n",
    "        vocabSet = vocabSet | set(document)  #   操作符|用于求两个集合的并集\n",
    "    return list(vocabSet)\n",
    "\n",
    "def setofWords2Vec(vocabList, inputVec):\n",
    "    returnVec = [0] * len(vocabList)\n",
    "    for word in inputVec:\n",
    "        if word in vocabList:\n",
    "            tempIndex = vocabList.index(word) #获取出现词汇的下标\n",
    "            returnVec[tempIndex] = 1\n",
    "        else:\n",
    "            print('the word: %s is not in vocabList' % word)\n",
    "    return returnVec"
   ]
  }
 ],
 "metadata": {
  "kernelspec": {
   "display_name": "Python 3",
   "language": "python",
   "name": "python3"
  },
  "language_info": {
   "codemirror_mode": {
    "name": "ipython",
    "version": 3
   },
   "file_extension": ".py",
   "mimetype": "text/x-python",
   "name": "python",
   "nbconvert_exporter": "python",
   "pygments_lexer": "ipython3",
   "version": "3.6.5"
  }
 },
 "nbformat": 4,
 "nbformat_minor": 2
}
