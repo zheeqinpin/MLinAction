{
 "cells": [
  {
   "cell_type": "code",
   "execution_count": 3,
   "metadata": {},
   "outputs": [],
   "source": [
    "'''\n",
    "edited by:Qingping Zheng\n",
    "2018-10-09\n",
    "'''\n",
    "from numpy import *\n",
    "\n",
    "def loadDataSet():\n",
    "    postingList=[['my', 'dog', 'has', 'flea', 'problems', 'help', 'please'],\n",
    "                 ['maybe', 'not', 'take', 'him', 'to', 'dog', 'park', 'stupid'],\n",
    "                 ['my', 'dalmation', 'is', 'so', 'cute', 'I', 'love', 'him'],\n",
    "                 ['stop', 'posting', 'stupid', 'worthless', 'garbage'],\n",
    "                 ['mr', 'licks', 'ate', 'my', 'steak', 'how', 'to', 'stop', 'him'],\n",
    "                 ['quit', 'buying', 'worthless', 'dog', 'food', 'stupid']]\n",
    "    classVec = [0,1,0,1,0,1]    #1 代表侮辱性文字, 0 代表不是\n",
    "    return postingList,classVec\n",
    "\n",
    "def createVocabList(dataSet): #创建一个包含在所有文档中出现的不重复词的列表\n",
    "    vocabSet = set([])\n",
    "    for document in dataSet:\n",
    "        vocabSet = vocabSet | set(document)  #   操作符|用于求两个集合的并集\n",
    "    return list(vocabSet)\n",
    "\n",
    "def setofWords2Vec(vocabList, inputVec):\n",
    "    returnVec = [0] * len(vocabList)\n",
    "    for word in inputVec:\n",
    "        if word in vocabList:\n",
    "            tempIndex = vocabList.index(word) #获取出现词汇的下标\n",
    "            returnVec[tempIndex] = 1\n",
    "        else:\n",
    "            print('the word: %s is not in vocabList' % word)\n",
    "    return returnVec\n",
    "\n",
    "################################################################################\n",
    "#朴素贝叶斯分类器训练函数\n",
    "def trainNB0(trainMatrix, trainCategory):\n",
    "    numofTrainDocs = len(trainMatrix)\n",
    "    numofWords = len(trainMatrix[0])\n",
    "    pAbusive = sum(trainCategory)/float(numofTrainDocs)  #计算p(c)  c是类别标号\n",
    "    # pAbusive\n",
    "    p0Num = zeros(numofWords)\n",
    "    p1Num = zeros(numofWords)\n",
    "    p0Denom = 0\n",
    "    p1Denom = 0\n",
    "    for i in range(numofTrainDocs):\n",
    "        if trainCategory[i] == 1:\n",
    "            p1Num += trainMatrix[i]\n",
    "            p1Denom += sum(trainMatrix[i])\n",
    "        else:\n",
    "            p0Num += trainMatrix[i]\n",
    "            p0Denom += sum(trainMatrix[i])\n",
    "    p1Vect = p1Num/p1Denom                  #计算p(xi | c)   c=1\n",
    "    p0Vect = p0Num/p0Denom                  #计算p(xi | c)   c=0\n",
    "    return p0Vect, p1Vect, pAbusive"
   ]
  }
 ],
 "metadata": {
  "kernelspec": {
   "display_name": "Python 3",
   "language": "python",
   "name": "python3"
  },
  "language_info": {
   "codemirror_mode": {
    "name": "ipython",
    "version": 3
   },
   "file_extension": ".py",
   "mimetype": "text/x-python",
   "name": "python",
   "nbconvert_exporter": "python",
   "pygments_lexer": "ipython3",
   "version": "3.6.5"
  }
 },
 "nbformat": 4,
 "nbformat_minor": 2
}
