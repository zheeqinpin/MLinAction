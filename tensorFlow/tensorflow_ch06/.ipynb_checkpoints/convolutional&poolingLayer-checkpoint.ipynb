{
 "cells": [
  {
   "cell_type": "code",
   "execution_count": null,
   "metadata": {
    "collapsed": true
   },
   "outputs": [],
   "source": [
    "import tensorflow as tf\n",
    "#卷积层前向传播过程\n",
    "filterWeights = tf.get_variable('weights',[5,5,3,16], initializer=tf.truncated_normal_initializer(stddev=0.1))\n",
    "biases = tf.get_variable('biases',[16],initializer=tf.constant_initializer(0.1))#输出的每层节点共享一个偏置项\n",
    "conv = tf.nn.conv2d(input,filterWeights,strides=[1,1,1,1],padding='SAME')\n",
    "bias = tf.nn.bias_add(conv,biases)\n",
    "actived_conv = tf.nn.relu(bias)\n",
    "#最大池化层前向传播过程\n",
    "pool = tf.nn.max_pool(actived_conv,ksize=[1,3,3,1],strides=[1,2,2,1],padding='SAME')"
   ]
  }
 ],
 "metadata": {
  "kernelspec": {
   "display_name": "Python 3",
   "language": "python",
   "name": "python3"
  },
  "language_info": {
   "codemirror_mode": {
    "name": "ipython",
    "version": 3
   },
   "file_extension": ".py",
   "mimetype": "text/x-python",
   "name": "python",
   "nbconvert_exporter": "python",
   "pygments_lexer": "ipython3",
   "version": "3.6.6"
  }
 },
 "nbformat": 4,
 "nbformat_minor": 2
}
