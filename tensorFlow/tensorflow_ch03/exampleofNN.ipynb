{
 "cells": [
  {
   "cell_type": "code",
   "execution_count": 46,
   "metadata": {},
   "outputs": [
    {
     "name": "stdout",
     "output_type": "stream",
     "text": [
      "[[-0.8113182   1.4845988   0.06532937]\n",
      " [-2.4427042   0.0992484   0.5912243 ]]\n",
      "[[-0.8113182 ]\n",
      " [ 1.4845988 ]\n",
      " [ 0.06532937]]\n",
      "after 0 training steps, cross entropy on all datais 1.60187\n",
      "after 1000 training steps, cross entropy on all datais 0.608305\n",
      "after 2000 training steps, cross entropy on all datais 0.608156\n",
      "after 3000 training steps, cross entropy on all datais 0.60812\n",
      "after 4000 training steps, cross entropy on all datais 0.608093\n",
      "[[ 1.3741788e-04  1.7485559e-02  1.5001397e+00]\n",
      " [-2.9927515e-04 -3.7934620e-02  5.4605708e-02]]\n",
      "[[ 7.1550380e-07]\n",
      " [ 6.1507657e-05]\n",
      " [-1.0732832e+00]]\n"
     ]
    }
   ],
   "source": [
    "import tensorflow as tf\n",
    "from numpy.random import RandomState\n",
    "\n",
    "batch_size = 8\n",
    "\n",
    "theta1 = tf.Variable(tf.random_normal((2, 3), stddev = 1, seed = 1))#随机初始参数，用正太分布，seed = 1保证每次初始运行得到一样的结果\n",
    "theta2 = tf.Variable(tf.random_normal((3, 1), stddev = 1, seed = 1))\n",
    "\n",
    "x = tf.placeholder(tf.float32, shape = (None,2), name = \"x-input\")  #导入样本\n",
    "y_ = tf.placeholder(tf.float32, shape = (None,1),name=\"y-input\") #y_表示样本label实际值\n",
    "global_step = tf.Variable(0)\n",
    "#前向传播得到输出结果\n",
    "a = tf.matmul(x, theta1)\n",
    "y = tf.matmul(a, theta2)\n",
    "#参数优化\n",
    "y = tf.sigmoid(y)\n",
    "cross_entropy = -tf.reduce_mean(y_*tf.log(tf.clip_by_value(y,1e-10,1.0))+(1-y_)*tf.log(tf.clip_by_value(1-y,1e-10,1.0)))\n",
    "# learn_rate = 0.001\n",
    "learn_rate = tf.train.exponential_decay(0.1, global_step, 100, 0.96, staircase = True) #学习率指数衰减\n",
    "train_step = tf.train.AdamOptimizer(learn_rate).minimize(cross_entropy, global_step = global_step)\n",
    "#生成模拟数据集\n",
    "rdm = RandomState(1)  #1为随机种子，保证每次生成的随机数都相同\n",
    "dataset_size = 128\n",
    "X = rdm.rand(dataset_size, 2)\n",
    "Y = [[int(x1+x2<1)] for (x1,x2) in X]  #小于1的样本被认为是正样本，给所有样本加标签 ###列表推导式###\n",
    "\n",
    "\n",
    "with tf.Session() as sess:\n",
    "    init_op = tf.global_variables_initializer() #变量初始化\n",
    "    sess.run(init_op)\n",
    "    print(sess.run(theta1))\n",
    "    print(sess.run(theta2))\n",
    "\n",
    "    steps = 5000\n",
    "    for i in range(steps):\n",
    "        start = (i*batch_size)%dataset_size\n",
    "        end = min(start+batch_size, dataset_size)\n",
    "        sess.run(train_step, feed_dict={x:X[start:end],y_:Y[start:end]})\n",
    "        if i%1000 == 0:\n",
    "            total_cross_entropy = sess.run(cross_entropy, feed_dict={x:X,y_:Y})\n",
    "            print('after %d training steps, cross entropy on all datais %g' % (i, total_cross_entropy))\n",
    "\n",
    "    print(sess.run(theta1))\n",
    "    print(sess.run(theta2))\n",
    "\n"
   ]
  }
 ],
 "metadata": {
  "kernelspec": {
   "display_name": "Python 3",
   "language": "python",
   "name": "python3"
  },
  "language_info": {
   "codemirror_mode": {
    "name": "ipython",
    "version": 3
   },
   "file_extension": ".py",
   "mimetype": "text/x-python",
   "name": "python",
   "nbconvert_exporter": "python",
   "pygments_lexer": "ipython3",
   "version": "3.6.2"
  }
 },
 "nbformat": 4,
 "nbformat_minor": 2
}
