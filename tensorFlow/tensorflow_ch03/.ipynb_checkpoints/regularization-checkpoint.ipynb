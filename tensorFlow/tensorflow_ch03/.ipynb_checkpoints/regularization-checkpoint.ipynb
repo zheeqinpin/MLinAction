{
 "cells": [
  {
   "cell_type": "code",
   "execution_count": 1,
   "metadata": {
    "collapsed": true
   },
   "outputs": [],
   "source": [
    "import tensorflow as tf\n",
    "def get_weight(shape, lambda1):\n",
    "    var = tf.Variable(tf.random_normal(shape), dtype = tf.float32)\n",
    "    tf.add_to_collection('losses',tf.contrib.layers.l2_regularizer(lambda1)(var))\n",
    "    return var\n",
    "\n",
    "x = tf.placeholder(tf.float32, shape = (None,2))  #导入样本\n",
    "y_ = tf.placeholder(tf.float32, shape = (None,1)) #y_表示样本label实际值\n",
    "batch_size = 8\n",
    "layer_dimension = [2,10,10,10,1]\n",
    "n_layers = len(layer_dimension)\n",
    "cur_layer = x\n",
    "in_dimension = layer_dimension[0]\n",
    "for i in range(1, n_layers):\n",
    "    out_dimension = layer_dimension[i]\n",
    "    weight = get_weight([in_dimension, out_dimension], 0.001)\n",
    "    bias = tf.Variable(tf.constant(0.1, shape=[out_dimension]))\n",
    "    cur_layer = tf.nn.relu(tf.matmul(cur_layer, weight)+bias)\n",
    "    in_dimension = layer_dimension[i]\n",
    "    \n",
    "mse_loss = tf.reduce_mean(tf.square(y_-cur_layer))\n",
    "tf.add_to_collection('losses',mse_loss)\n",
    "loss = tf.add_n(tf.get_collection('losses'))"
   ]
  }
 ],
 "metadata": {
  "kernelspec": {
   "display_name": "Python 3",
   "language": "python",
   "name": "python3"
  },
  "language_info": {
   "codemirror_mode": {
    "name": "ipython",
    "version": 3
   },
   "file_extension": ".py",
   "mimetype": "text/x-python",
   "name": "python",
   "nbconvert_exporter": "python",
   "pygments_lexer": "ipython3",
   "version": "3.6.2"
  }
 },
 "nbformat": 4,
 "nbformat_minor": 2
}
