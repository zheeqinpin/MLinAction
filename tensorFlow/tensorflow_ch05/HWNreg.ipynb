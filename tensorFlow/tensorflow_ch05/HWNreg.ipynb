{
 "cells": [
  {
   "cell_type": "code",
   "execution_count": null,
   "metadata": {
    "collapsed": true
   },
   "outputs": [],
   "source": [
    "import tensorflow as tf\n",
    "from tensorflow.example.tutorials.mnist import input_data\n",
    "\n",
    "inputNode = 784   #输入节点数  28*28=784\n",
    "outputNode = 10   #输出节点数  10（0~9）\n",
    "\n",
    "hiddenLayerNode = 500\n",
    "batchSize = 100\n",
    "\n",
    "learningRateBase = 0.8    #初始学习率\n",
    "learningRateDecay = 0.99  #学习率的衰减率\n",
    "regularizationRate = 0.0001  #正则化项的系数lambda\n",
    "iterationSteps = 30000      #训练轮数\n",
    "movingAverageDecay = 0.99  #滑动平均模型参数\n",
    "\n",
    "def inference()\n",
    "\n",
    "\n",
    "\n",
    "\n",
    "\n",
    "\n",
    "\n",
    "\n",
    "\n",
    "\n",
    "\n",
    "\n",
    "\n",
    "\n",
    "\n",
    "\n",
    "\n",
    "\n",
    "\n",
    "\n",
    "\n",
    "\n",
    "\n",
    "\n",
    "\n",
    "\n",
    "\n",
    "\n",
    "\n",
    "\n",
    "\n",
    "\n",
    "\n",
    "\n",
    "\n",
    "\n",
    "\n",
    "\n",
    "\n",
    "\n",
    "\n",
    "\n",
    "\n",
    "\n",
    "\n",
    "\n"
   ]
  }
 ],
 "metadata": {
  "kernelspec": {
   "display_name": "Python 3",
   "language": "python",
   "name": "python3"
  },
  "language_info": {
   "codemirror_mode": {
    "name": "ipython",
    "version": 3
   },
   "file_extension": ".py",
   "mimetype": "text/x-python",
   "name": "python",
   "nbconvert_exporter": "python",
   "pygments_lexer": "ipython3",
   "version": "3.6.6"
  }
 },
 "nbformat": 4,
 "nbformat_minor": 2
}
