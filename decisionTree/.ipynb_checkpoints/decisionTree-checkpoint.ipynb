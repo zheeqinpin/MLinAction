{
 "cells": [
  {
   "cell_type": "code",
   "execution_count": 1,
   "metadata": {},
   "outputs": [
    {
     "ename": "IndentationError",
     "evalue": "unexpected indent (<ipython-input-1-900efbbc183a>, line 10)",
     "output_type": "error",
     "traceback": [
      "\u001b[0;36m  File \u001b[0;32m\"<ipython-input-1-900efbbc183a>\"\u001b[0;36m, line \u001b[0;32m10\u001b[0m\n\u001b[0;31m    numEntries = len(dataSet)\u001b[0m\n\u001b[0m    ^\u001b[0m\n\u001b[0;31mIndentationError\u001b[0m\u001b[0;31m:\u001b[0m unexpected indent\n"
     ]
    }
   ],
   "source": [
    "from math import log\n",
    "\n",
    "def createDataSet():\n",
    "    dataSet = [[1, 1, 'yes'], [1, 1, 'yes'], [1, 0, 'no'], [0, 1, 'no'], [0, 1, 'no']]\n",
    "    labels = ['no surfacing', 'flippers']\n",
    "    return dataSet, labels\n",
    "\n",
    "#计算给定数据集的信息熵\n",
    "def calcShannonEnt(dataSet):\n",
    "    numEntries = len(dataSet)\n",
    "    # numEntries\n",
    "    labelCounts = {} #创建一个空的字典\n",
    "    for featVec in dataSet:  #一个一个样本的遍历数据集\n",
    "        currentLabel = featVec[-1]    #取第一个样本的最后一个属性\n",
    "        if currentLabel not in labelCounts.keys():\n",
    "            labelCounts[currentLabel] = 0  #将样本的最后一个属性加入到字典中最为键\n",
    "        labelCounts[currentLabel] += 1     #存储键的值\n",
    "        shannonEnt = 0\n",
    "        for key in labelCounts:\n",
    "            prob = float(labelCounts[key])/numEntries\n",
    "            shannonEnt -= prob*log(prob, 2)\n",
    "    return shannonEnt    "
   ]
  }
 ],
 "metadata": {
  "kernelspec": {
   "display_name": "Python 3",
   "language": "python",
   "name": "python3"
  },
  "language_info": {
   "codemirror_mode": {
    "name": "ipython",
    "version": 3
   },
   "file_extension": ".py",
   "mimetype": "text/x-python",
   "name": "python",
   "nbconvert_exporter": "python",
   "pygments_lexer": "ipython3",
   "version": "3.6.5"
  }
 },
 "nbformat": 4,
 "nbformat_minor": 2
}
