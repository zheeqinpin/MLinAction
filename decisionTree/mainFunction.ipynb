{
 "cells": [
  {
   "cell_type": "markdown",
   "metadata": {},
   "source": [
    "## 测试计算信息熵函数"
   ]
  },
  {
   "cell_type": "code",
   "execution_count": 1,
   "metadata": {},
   "outputs": [
    {
     "name": "stdout",
     "output_type": "stream",
     "text": [
      "importing Jupyter notebook from decisionTree.ipynb\n",
      "importing Jupyter notebook from decisionTree.ipynb\n"
     ]
    },
    {
     "data": {
      "text/plain": [
       "[[1, 1, 'yes'], [1, 1, 'yes'], [1, 0, 'no'], [0, 1, 'no'], [0, 1, 'no']]"
      ]
     },
     "execution_count": 1,
     "metadata": {},
     "output_type": "execute_result"
    }
   ],
   "source": [
    "from imp import reload\n",
    "import ipynbImporter\n",
    "import decisionTree\n",
    "import operator\n",
    "reload(decisionTree)\n",
    "myData, labels = decisionTree.createDataSet()\n",
    "decisionTree.calcShannonEnt(myData)\n",
    "myData"
   ]
  },
  {
   "cell_type": "markdown",
   "metadata": {},
   "source": [
    "## 构建按照给定特征划分数据集函数\n"
   ]
  },
  {
   "cell_type": "code",
   "execution_count": 4,
   "metadata": {},
   "outputs": [
    {
     "data": {
      "text/plain": [
       "[[1, 'yes'], [1, 'yes'], [0, 'no'], [0, 'no']]"
      ]
     },
     "execution_count": 4,
     "metadata": {},
     "output_type": "execute_result"
    }
   ],
   "source": [
    "dataSet = myData\n",
    "axis = 1 \n",
    "value = 1\n",
    "returnDataSet = []\n",
    "for featVec in dataSet:   #dataSet本质上是元素为列表的列表，此语句表示一个一个列表的遍历数据集\n",
    "    if featVec[axis] == value:    #判断当前列表中序号为axis的元素的值是否为value\n",
    "        tempVec = featVec[:axis]   #将当前列表中axis位元素之前的所有元素放入列表tempVec中\n",
    "        tempVec.extend(featVec[axis+1:])#将当前列表中axis位元素之后的所有元素接到列表tempVec中\n",
    "        returnDataSet.append(tempVec)  #将列表tempVec放入大列表returnDataSet中，一个列表一个列表的存放\n",
    "returnDataSet"
   ]
  },
  {
   "cell_type": "markdown",
   "metadata": {},
   "source": [
    "## 测试按照给定特征划分数据集函数 "
   ]
  },
  {
   "cell_type": "code",
   "execution_count": 5,
   "metadata": {},
   "outputs": [
    {
     "data": {
      "text/plain": [
       "[[1, 'yes'], [1, 'yes'], [0, 'no']]"
      ]
     },
     "execution_count": 5,
     "metadata": {},
     "output_type": "execute_result"
    }
   ],
   "source": [
    "subDataSet = decisionTree.splitDataSet(myData, 0, 1)\n",
    "subDataSet"
   ]
  },
  {
   "cell_type": "markdown",
   "metadata": {},
   "source": [
    "## 选择最好的数据集划分特征"
   ]
  },
  {
   "cell_type": "code",
   "execution_count": 11,
   "metadata": {},
   "outputs": [
    {
     "name": "stdout",
     "output_type": "stream",
     "text": [
      "0.4199730940219749\n",
      "0.17095059445466854\n"
     ]
    },
    {
     "data": {
      "text/plain": [
       "0"
      ]
     },
     "execution_count": 11,
     "metadata": {},
     "output_type": "execute_result"
    }
   ],
   "source": [
    "dataSet = myData\n",
    "\n",
    "numOfFeatures = len(dataSet[0])-1   #找出数据集中第一个元素的特征维度，-1是因为要减去类别这一为维\n",
    "baseEnt = decisionTree.calcShannonEnt(dataSet)\n",
    "bestInfoGain = 0  \n",
    "bestFeature = -1\n",
    "for i in range(numOfFeatures):\n",
    "    featList = [example[i] for example in dataSet]  #将第i个特征的所有取值找到 ###牛逼###\n",
    "    uniqueVals = set(featList)                      #第i个特征的每种取值只取一次，相当与找到所有可能的子节点\n",
    "    tempEnt = 0\n",
    "    newEnt = 0\n",
    "    for tempValue in uniqueVals:                    #遍历每个子节点\n",
    "        subDataSet = decisionTree.splitDataSet(dataSet, i, tempValue)  #找到每个子节点\n",
    "        prob = len(subDataSet)/float(len(dataSet))                    #计算该子节点的权重\n",
    "        newEnt += prob*decisionTree.calcShannonEnt(subDataSet)      #计算所有子节点总的信息熵\n",
    "    infoGain = baseEnt - newEnt\n",
    "    if infoGain > bestInfoGain:\n",
    "        bestInfoGain = infoGain\n",
    "        bestFeature = i\n",
    "    #print(infoGain)\n",
    "bestFeature\n",
    "#return bestFeature"
   ]
  },
  {
   "cell_type": "markdown",
   "metadata": {},
   "source": [
    "## 测试函数chooseBestFeatToSplit(dataSet) "
   ]
  },
  {
   "cell_type": "code",
   "execution_count": 26,
   "metadata": {},
   "outputs": [
    {
     "data": {
      "text/plain": [
       "0"
      ]
     },
     "execution_count": 26,
     "metadata": {},
     "output_type": "execute_result"
    }
   ],
   "source": [
    "decisionTree.chooseBestFeatToSplit(myData)"
   ]
  },
  {
   "cell_type": "markdown",
   "metadata": {},
   "source": [
    "## 将叶子节点中出现次数最多的类标签作为该叶子节点的类标签 "
   ]
  },
  {
   "cell_type": "code",
   "execution_count": 61,
   "metadata": {},
   "outputs": [
    {
     "data": {
      "text/plain": [
       "2"
      ]
     },
     "execution_count": 61,
     "metadata": {},
     "output_type": "execute_result"
    }
   ],
   "source": [
    "classList = ['yes','no','no','no','yes','no']\n",
    "classCount = {}\n",
    "for classLabel in classList:\n",
    "    classCount[classLabel] = classCount.get(classLabel, 0) +1\n",
    "    sortedClassCount = sorted(classCount.items(), key = operator.itemgetter(1), reverse = True)\n",
    "sortedClassCount[1][1]\n",
    "#return srotedClassCount[0][0]"
   ]
  },
  {
   "cell_type": "markdown",
   "metadata": {},
   "source": [
    "## 测试majorityCnt()函数"
   ]
  },
  {
   "cell_type": "code",
   "execution_count": 98,
   "metadata": {},
   "outputs": [
    {
     "data": {
      "text/plain": [
       "'yes'"
      ]
     },
     "execution_count": 98,
     "metadata": {},
     "output_type": "execute_result"
    }
   ],
   "source": [
    "classList = ['yes','no','yes','yes','yes','no']\n",
    "decisionTree.majorityCnt(classList)"
   ]
  },
  {
   "cell_type": "markdown",
   "metadata": {},
   "source": [
    "## 创建决策树"
   ]
  },
  {
   "cell_type": "code",
   "execution_count": 3,
   "metadata": {},
   "outputs": [
    {
     "data": {
      "text/plain": [
       "{'no surfacing': {0: 'no', 1: {'flippers': {0: 'no', 1: 'yes'}}}}"
      ]
     },
     "execution_count": 3,
     "metadata": {},
     "output_type": "execute_result"
    }
   ],
   "source": [
    "decisionTree.createTree(myData, labels)\n",
    "# classList"
   ]
  }
 ],
 "metadata": {
  "kernelspec": {
   "display_name": "Python 3",
   "language": "python",
   "name": "python3"
  },
  "language_info": {
   "codemirror_mode": {
    "name": "ipython",
    "version": 3
   },
   "file_extension": ".py",
   "mimetype": "text/x-python",
   "name": "python",
   "nbconvert_exporter": "python",
   "pygments_lexer": "ipython3",
   "version": "3.6.5"
  }
 },
 "nbformat": 4,
 "nbformat_minor": 2
}
